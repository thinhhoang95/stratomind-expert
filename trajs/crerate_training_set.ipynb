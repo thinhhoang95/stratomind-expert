{
 "cells": [
  {
   "cell_type": "code",
   "execution_count": 1,
   "metadata": {},
   "outputs": [],
   "source": [
    "import numpy as np \n",
    "import matplotlib.pyplot as plt\n",
    "import pandas as pd"
   ]
  },
  {
   "cell_type": "code",
   "execution_count": 2,
   "metadata": {},
   "outputs": [],
   "source": [
    "import os\n",
    "import glob\n",
    "import roi "
   ]
  },
  {
   "cell_type": "code",
   "execution_count": 3,
   "metadata": {},
   "outputs": [],
   "source": [
    "def great_circle_distance(lat1, lon1, lat2, lon2):\n",
    "    \"\"\"Distance between two points on the earth surface, in km.\n",
    "    \"\"\"\n",
    "    R = 6371.0 # Radius of the earth in km\n",
    "    dlon = np.deg2rad(lon2 - lon1)\n",
    "    dlat = np.deg2rad(lat2 - lat1)\n",
    "    a = np.sin(dlat/2)**2 + np.cos(np.deg2rad(lat1)) * np.cos(np.deg2rad(lat2)) * np.sin(dlon/2)**2\n",
    "    c = 2 * np.arctan2(np.sqrt(a), np.sqrt(1-a))\n",
    "    return R * c"
   ]
  },
  {
   "cell_type": "markdown",
   "metadata": {},
   "source": [
    "# Read and Process one File\n",
    "\n",
    "A step-by-step break down of what is going on."
   ]
  },
  {
   "cell_type": "code",
   "execution_count": 4,
   "metadata": {},
   "outputs": [
    {
     "name": "stdout",
     "output_type": "stream",
     "text": [
      "Number of files: 210\n",
      "Filename:  ../data/tx/hrrr17x_0.csv.gz Number of rows:  72762\n",
      "Filename:  ../data/tx/hrrr17x_1.csv.gz Number of rows:  62189\n"
     ]
    },
    {
     "name": "stderr",
     "output_type": "stream",
     "text": [
      "/var/folders/8k/_h2zg_z51q9fpsbmsh42bd3h0000gn/T/ipykernel_5544/2196894280.py:11: DtypeWarning: Columns (15) have mixed types. Specify dtype option on import or set low_memory=False.\n",
      "  traj_csv = pd.read_csv(filename, compression='gzip')\n"
     ]
    },
    {
     "name": "stdout",
     "output_type": "stream",
     "text": [
      "Filename:  ../data/tx/hrrr17x_10.csv.gz Number of rows:  852318\n",
      "Number of rows in big_traj_csv:  987269\n"
     ]
    }
   ],
   "source": [
    "# List all filenames in data/tx\n",
    "filenames = glob.glob('../data/tx/*.csv.gz')\n",
    "filenames.sort()\n",
    "print('Number of files:', len(filenames))\n",
    "\n",
    "files_to_read = filenames[0:1] # Read only the first 1 files\n",
    "big_traj_csv = pd.DataFrame() # Create an empty dataframe\n",
    "\n",
    "# Read each file and append to big_traj_csv\n",
    "for filename in files_to_read:\n",
    "    traj_csv = pd.read_csv(filename, compression='gzip')\n",
    "    traj_csv = traj_csv[['altitude', 'groundspeed', 'callsign', 'latitude', 'longitude', 'timestamp']]\n",
    "    # Add a column called 'dist' to indicate distance to roi.KDFW, using great_circle_distance()\n",
    "    traj_csv['dist'] = great_circle_distance(traj_csv['latitude'], traj_csv['longitude'], roi.KDFW[1], roi.KDFW[0])\n",
    "    big_traj_csv = pd.concat([big_traj_csv, traj_csv], ignore_index=True)\n",
    "    print('Filename: ', filename, 'Number of rows: ', len(traj_csv))\n",
    "\n",
    "print('Number of rows in big_traj_csv: ', len(big_traj_csv))"
   ]
  },
  {
   "cell_type": "code",
   "execution_count": 5,
   "metadata": {},
   "outputs": [
    {
     "name": "stdout",
     "output_type": "stream",
     "text": [
      "Number of rows in big_traj_csv after dropping rows with distance > ROI_RADIUS:  276004\n"
     ]
    }
   ],
   "source": [
    "# Drop the rows with distance > roi.ROI_RADIUS\n",
    "big_traj_csv = big_traj_csv[big_traj_csv['dist'] <= roi.ROI_RADIUS]\n",
    "print('Number of rows in big_traj_csv after dropping rows with distance > ROI_RADIUS: ', len(big_traj_csv))"
   ]
  },
  {
   "cell_type": "code",
   "execution_count": 6,
   "metadata": {},
   "outputs": [
    {
     "data": {
      "text/html": [
       "<div>\n",
       "<style scoped>\n",
       "    .dataframe tbody tr th:only-of-type {\n",
       "        vertical-align: middle;\n",
       "    }\n",
       "\n",
       "    .dataframe tbody tr th {\n",
       "        vertical-align: top;\n",
       "    }\n",
       "\n",
       "    .dataframe thead th {\n",
       "        text-align: right;\n",
       "    }\n",
       "</style>\n",
       "<table border=\"1\" class=\"dataframe\">\n",
       "  <thead>\n",
       "    <tr style=\"text-align: right;\">\n",
       "      <th></th>\n",
       "      <th>altitude</th>\n",
       "      <th>groundspeed</th>\n",
       "      <th>callsign</th>\n",
       "      <th>latitude</th>\n",
       "      <th>longitude</th>\n",
       "      <th>timestamp</th>\n",
       "      <th>dist</th>\n",
       "    </tr>\n",
       "  </thead>\n",
       "  <tbody>\n",
       "    <tr>\n",
       "      <th>2079</th>\n",
       "      <td>31775.0</td>\n",
       "      <td>499.0</td>\n",
       "      <td>GTI3403</td>\n",
       "      <td>32.637039</td>\n",
       "      <td>-99.107062</td>\n",
       "      <td>2017-01-01 10:03:15+00:00</td>\n",
       "      <td>199.923536</td>\n",
       "    </tr>\n",
       "    <tr>\n",
       "      <th>2090</th>\n",
       "      <td>31725.0</td>\n",
       "      <td>499.0</td>\n",
       "      <td>GTI3403</td>\n",
       "      <td>32.637355</td>\n",
       "      <td>-99.104639</td>\n",
       "      <td>2017-01-01 10:03:16+00:00</td>\n",
       "      <td>199.697413</td>\n",
       "    </tr>\n",
       "    <tr>\n",
       "      <th>2111</th>\n",
       "      <td>31700.0</td>\n",
       "      <td>499.0</td>\n",
       "      <td>GTI3403</td>\n",
       "      <td>32.637634</td>\n",
       "      <td>-99.102173</td>\n",
       "      <td>2017-01-01 10:03:17+00:00</td>\n",
       "      <td>199.467127</td>\n",
       "    </tr>\n",
       "    <tr>\n",
       "      <th>2122</th>\n",
       "      <td>31675.0</td>\n",
       "      <td>499.0</td>\n",
       "      <td>GTI3403</td>\n",
       "      <td>32.638007</td>\n",
       "      <td>-99.099202</td>\n",
       "      <td>2017-01-01 10:03:18+00:00</td>\n",
       "      <td>199.189828</td>\n",
       "    </tr>\n",
       "    <tr>\n",
       "      <th>2131</th>\n",
       "      <td>31625.0</td>\n",
       "      <td>499.0</td>\n",
       "      <td>GTI3403</td>\n",
       "      <td>32.638379</td>\n",
       "      <td>-99.095951</td>\n",
       "      <td>2017-01-01 10:03:19+00:00</td>\n",
       "      <td>198.886304</td>\n",
       "    </tr>\n",
       "  </tbody>\n",
       "</table>\n",
       "</div>"
      ],
      "text/plain": [
       "      altitude  groundspeed callsign   latitude  longitude  \\\n",
       "2079   31775.0        499.0  GTI3403  32.637039 -99.107062   \n",
       "2090   31725.0        499.0  GTI3403  32.637355 -99.104639   \n",
       "2111   31700.0        499.0  GTI3403  32.637634 -99.102173   \n",
       "2122   31675.0        499.0  GTI3403  32.638007 -99.099202   \n",
       "2131   31625.0        499.0  GTI3403  32.638379 -99.095951   \n",
       "\n",
       "                      timestamp        dist  \n",
       "2079  2017-01-01 10:03:15+00:00  199.923536  \n",
       "2090  2017-01-01 10:03:16+00:00  199.697413  \n",
       "2111  2017-01-01 10:03:17+00:00  199.467127  \n",
       "2122  2017-01-01 10:03:18+00:00  199.189828  \n",
       "2131  2017-01-01 10:03:19+00:00  198.886304  "
      ]
     },
     "execution_count": 6,
     "metadata": {},
     "output_type": "execute_result"
    }
   ],
   "source": [
    "big_traj_csv.head()"
   ]
  },
  {
   "cell_type": "code",
   "execution_count": 7,
   "metadata": {},
   "outputs": [],
   "source": [
    "def round_timestamp_to_10s(timestamp):\n",
    "    \"\"\"Round a timestamp to the nearest 10 seconds.\n",
    "    \"\"\"\n",
    "    # Parse the timestamp string into a datetime object\n",
    "    dt = pd.to_datetime(timestamp)\n",
    "    # Round to the nearest 10 seconds\n",
    "    dt_rounded = dt.round('10s')\n",
    "    # Convert back to string\n",
    "    timestamp_rounded = str(dt_rounded)\n",
    "    return timestamp_rounded"
   ]
  },
  {
   "cell_type": "code",
   "execution_count": 8,
   "metadata": {},
   "outputs": [
    {
     "data": {
      "text/html": [
       "<div>\n",
       "<style scoped>\n",
       "    .dataframe tbody tr th:only-of-type {\n",
       "        vertical-align: middle;\n",
       "    }\n",
       "\n",
       "    .dataframe tbody tr th {\n",
       "        vertical-align: top;\n",
       "    }\n",
       "\n",
       "    .dataframe thead th {\n",
       "        text-align: right;\n",
       "    }\n",
       "</style>\n",
       "<table border=\"1\" class=\"dataframe\">\n",
       "  <thead>\n",
       "    <tr style=\"text-align: right;\">\n",
       "      <th></th>\n",
       "      <th>altitude</th>\n",
       "      <th>groundspeed</th>\n",
       "      <th>callsign</th>\n",
       "      <th>latitude</th>\n",
       "      <th>longitude</th>\n",
       "      <th>timestamp</th>\n",
       "      <th>dist</th>\n",
       "      <th>timestamp_rounded</th>\n",
       "    </tr>\n",
       "  </thead>\n",
       "  <tbody>\n",
       "    <tr>\n",
       "      <th>2079</th>\n",
       "      <td>31775.0</td>\n",
       "      <td>499.0</td>\n",
       "      <td>GTI3403</td>\n",
       "      <td>32.637039</td>\n",
       "      <td>-99.107062</td>\n",
       "      <td>2017-01-01 10:03:15+00:00</td>\n",
       "      <td>199.923536</td>\n",
       "      <td>2017-01-01 10:03:20+00:00</td>\n",
       "    </tr>\n",
       "    <tr>\n",
       "      <th>2090</th>\n",
       "      <td>31725.0</td>\n",
       "      <td>499.0</td>\n",
       "      <td>GTI3403</td>\n",
       "      <td>32.637355</td>\n",
       "      <td>-99.104639</td>\n",
       "      <td>2017-01-01 10:03:16+00:00</td>\n",
       "      <td>199.697413</td>\n",
       "      <td>2017-01-01 10:03:20+00:00</td>\n",
       "    </tr>\n",
       "    <tr>\n",
       "      <th>2111</th>\n",
       "      <td>31700.0</td>\n",
       "      <td>499.0</td>\n",
       "      <td>GTI3403</td>\n",
       "      <td>32.637634</td>\n",
       "      <td>-99.102173</td>\n",
       "      <td>2017-01-01 10:03:17+00:00</td>\n",
       "      <td>199.467127</td>\n",
       "      <td>2017-01-01 10:03:20+00:00</td>\n",
       "    </tr>\n",
       "    <tr>\n",
       "      <th>2122</th>\n",
       "      <td>31675.0</td>\n",
       "      <td>499.0</td>\n",
       "      <td>GTI3403</td>\n",
       "      <td>32.638007</td>\n",
       "      <td>-99.099202</td>\n",
       "      <td>2017-01-01 10:03:18+00:00</td>\n",
       "      <td>199.189828</td>\n",
       "      <td>2017-01-01 10:03:20+00:00</td>\n",
       "    </tr>\n",
       "    <tr>\n",
       "      <th>2131</th>\n",
       "      <td>31625.0</td>\n",
       "      <td>499.0</td>\n",
       "      <td>GTI3403</td>\n",
       "      <td>32.638379</td>\n",
       "      <td>-99.095951</td>\n",
       "      <td>2017-01-01 10:03:19+00:00</td>\n",
       "      <td>198.886304</td>\n",
       "      <td>2017-01-01 10:03:20+00:00</td>\n",
       "    </tr>\n",
       "  </tbody>\n",
       "</table>\n",
       "</div>"
      ],
      "text/plain": [
       "      altitude  groundspeed callsign   latitude  longitude  \\\n",
       "2079   31775.0        499.0  GTI3403  32.637039 -99.107062   \n",
       "2090   31725.0        499.0  GTI3403  32.637355 -99.104639   \n",
       "2111   31700.0        499.0  GTI3403  32.637634 -99.102173   \n",
       "2122   31675.0        499.0  GTI3403  32.638007 -99.099202   \n",
       "2131   31625.0        499.0  GTI3403  32.638379 -99.095951   \n",
       "\n",
       "                      timestamp        dist          timestamp_rounded  \n",
       "2079  2017-01-01 10:03:15+00:00  199.923536  2017-01-01 10:03:20+00:00  \n",
       "2090  2017-01-01 10:03:16+00:00  199.697413  2017-01-01 10:03:20+00:00  \n",
       "2111  2017-01-01 10:03:17+00:00  199.467127  2017-01-01 10:03:20+00:00  \n",
       "2122  2017-01-01 10:03:18+00:00  199.189828  2017-01-01 10:03:20+00:00  \n",
       "2131  2017-01-01 10:03:19+00:00  198.886304  2017-01-01 10:03:20+00:00  "
      ]
     },
     "execution_count": 8,
     "metadata": {},
     "output_type": "execute_result"
    }
   ],
   "source": [
    "big_traj_csv['timestamp_rounded'] = big_traj_csv['timestamp'].apply(round_timestamp_to_10s)\n",
    "big_traj_csv.head()"
   ]
  },
  {
   "cell_type": "code",
   "execution_count": 9,
   "metadata": {},
   "outputs": [
    {
     "name": "stdout",
     "output_type": "stream",
     "text": [
      "Number of unique timestamps:  3581\n"
     ]
    }
   ],
   "source": [
    "unique_timestamps = big_traj_csv['timestamp_rounded'].unique()\n",
    "print('Number of unique timestamps: ', len(unique_timestamps))"
   ]
  },
  {
   "cell_type": "code",
   "execution_count": 10,
   "metadata": {},
   "outputs": [
    {
     "name": "stdout",
     "output_type": "stream",
     "text": [
      "Number of sampled timestamps:  537\n"
     ]
    }
   ],
   "source": [
    "# Uniformly sample 15% of the unique timestamps\n",
    "sampled_timestamps = np.random.choice(unique_timestamps, size=int(0.15*len(unique_timestamps)), replace=False)\n",
    "print('Number of sampled timestamps: ', len(sampled_timestamps))"
   ]
  },
  {
   "cell_type": "code",
   "execution_count": 17,
   "metadata": {},
   "outputs": [],
   "source": [
    "def get_occupancy_matrix(traj_pd, grid_lons, grid_lats, timestamp):\n",
    "    \"\"\"Compute the occupancy matrix for a given timestamp.\n",
    "    \"\"\"\n",
    "    # Extract the rows with the given timestamp\n",
    "    traj_pd = traj_pd[traj_pd['timestamp_rounded'] == timestamp]\n",
    "    # Remove duplicate callsigns\n",
    "    traj_pd = traj_pd.drop_duplicates(subset='callsign')\n",
    "    # Initialize the occupancy matrix\n",
    "    occ_mat = np.zeros((len(grid_lats), len(grid_lons)))\n",
    "    # Loop over each row in traj_pd\n",
    "    for i, row in traj_pd.iterrows():\n",
    "        # Find the index of the grid cell that contains the flight\n",
    "        lat_idx = np.argmin(np.abs(grid_lats - row['latitude']))\n",
    "        lon_idx = np.argmin(np.abs(grid_lons - row['longitude']))\n",
    "        # Increment the count in the corresponding cell of occ_mat\n",
    "        occ_mat[lat_idx, lon_idx] = row['groundspeed']\n",
    "    return occ_mat\n",
    "\n",
    "occ_0 = get_occupancy_matrix(big_traj_csv, roi.grid_lons, roi.grid_lats, sampled_timestamps[0])"
   ]
  },
  {
   "cell_type": "code",
   "execution_count": 19,
   "metadata": {},
   "outputs": [
    {
     "data": {
      "text/plain": [
       "<matplotlib.colorbar.Colorbar at 0x164279590>"
      ]
     },
     "execution_count": 19,
     "metadata": {},
     "output_type": "execute_result"
    },
    {
     "data": {
      "image/png": "[encoded data removed]",
      "text/plain": [
       "<Figure size 640x480 with 2 Axes>"
      ]
     },
     "metadata": {},
     "output_type": "display_data"
    }
   ],
   "source": [
    "plt.imshow(occ_0)\n",
    "plt.xlabel('Longitude index')\n",
    "plt.ylabel('Latitude index')\n",
    "plt.colorbar()"
   ]
  },
  {
   "cell_type": "markdown",
   "metadata": {},
   "source": [
    "# Batch processing\n",
    "\n",
    "To process all the data into matrices, for the training of the VAE."
   ]
  },
  {
   "cell_type": "code",
   "execution_count": 21,
   "metadata": {},
   "outputs": [],
   "source": [
    "# Import the dataset from hrrr17t.tgz file, open the OpenSky download notebook to see how to download the data\n",
    "def create_occupancy_matrices(traj_filename, output_filename, percentage_of_timestamps_per_file):\n",
    "    traj_csv = pd.read_csv(traj_filename, compression='gzip')\n",
    "    traj_csv = traj_csv[['altitude', 'groundspeed', 'callsign', 'latitude', 'longitude', 'timestamp']]\n",
    "    # Add a column called 'dist' to indicate distance to roi.KDFW, using great_circle_distance()\n",
    "    traj_csv['dist'] = great_circle_distance(traj_csv['latitude'], traj_csv['longitude'], roi.KDFW[1], roi.KDFW[0])\n",
    "    # Drop the rows with distance > roi.ROI_RADIUS\n",
    "    traj_csv = traj_csv[traj_csv['dist'] <= roi.ROI_RADIUS]\n",
    "    # Round the timestamp to the nearest 10 seconds\n",
    "    traj_csv['timestamp_rounded'] = traj_csv['timestamp'].apply(round_timestamp_to_10s)\n",
    "    # Get the unique timestamps\n",
    "    unique_timestamps = traj_csv['timestamp_rounded'].unique()\n",
    "    # Uniformly sample a percentage of the unique timestamps\n",
    "    sampled_timestamps = np.random.choice(unique_timestamps, size=int(percentage_of_timestamps_per_file*len(unique_timestamps)), replace=False)\n",
    "    # Create the occupancy matrices\n",
    "    occ_mats = []\n",
    "    for timestamp in sampled_timestamps:\n",
    "        occ_mat = get_occupancy_matrix(traj_csv, roi.grid_lons, roi.grid_lats, timestamp)\n",
    "        occ_mats.append(occ_mat)\n",
    "    # Convert occ_mats to a numpy array\n",
    "    occ_mats = np.array(occ_mats)\n",
    "    # Save occ_mats to a numpy file compressed with gzip\n",
    "    np.savez_compressed(output_filename, occ_mats=occ_mats)"
   ]
  },
  {
   "cell_type": "code",
   "execution_count": 22,
   "metadata": {},
   "outputs": [],
   "source": [
    "!mkdir -p ../data/tx_occupancy_matrices"
   ]
  },
  {
   "cell_type": "code",
   "execution_count": 23,
   "metadata": {},
   "outputs": [],
   "source": [
    "create_occupancy_matrices(filenames[0], '../data/tx_occupancy_matrices/occ_mats_0.npz', 0.15)"
   ]
  },
  {
   "cell_type": "code",
   "execution_count": 26,
   "metadata": {},
   "outputs": [],
   "source": [
    "occ0 = np.load('../data/tx_occupancy_matrices/occ_mats_0.npz')['occ_mats']"
   ]
  },
  {
   "cell_type": "code",
   "execution_count": 29,
   "metadata": {},
   "outputs": [
    {
     "data": {
      "text/plain": [
       "<matplotlib.image.AxesImage at 0x1632843d0>"
      ]
     },
     "execution_count": 29,
     "metadata": {},
     "output_type": "execute_result"
    },
    {
     "data": {
      "image/png": "[encoded data removed]",
      "text/plain": [
       "<Figure size 640x480 with 1 Axes>"
      ]
     },
     "metadata": {},
     "output_type": "display_data"
    }
   ],
   "source": [
    "plt.imshow(occ0[25])"
   ]
  },
  {
   "cell_type": "code",
   "execution_count": null,
   "metadata": {},
   "outputs": [],
   "source": []
  }
 ],
 "metadata": {
  "kernelspec": {
   "display_name": "rlparis",
   "language": "python",
   "name": "python3"
  },
  "language_info": {
   "codemirror_mode": {
    "name": "ipython",
    "version": 3
   },
   "file_extension": ".py",
   "mimetype": "text/x-python",
   "name": "python",
   "nbconvert_exporter": "python",
   "pygments_lexer": "ipython3",
   "version": "3.11.5"
  }
 },
 "nbformat": 4,
 "nbformat_minor": 2
}
